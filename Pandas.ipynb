{
  "nbformat": 4,
  "nbformat_minor": 0,
  "metadata": {
    "colab": {
      "provenance": []
    },
    "kernelspec": {
      "name": "python3",
      "display_name": "Python 3"
    },
    "language_info": {
      "name": "python"
    }
  },
  "cells": [
    {
      "cell_type": "code",
      "execution_count": 2,
      "metadata": {
        "colab": {
          "base_uri": "https://localhost:8080/"
        },
        "id": "Nw5pmazvNp5W",
        "outputId": "0a5a81e2-642c-4f40-b108-583bd80fa46c"
      },
      "outputs": [
        {
          "output_type": "stream",
          "name": "stdout",
          "text": [
            "          sum  mean  max\n",
            "Category                \n",
            "A          30  15.0   20\n",
            "B          70  35.0   40\n",
            "C         110  55.0   60\n"
          ]
        }
      ],
      "source": [
        "import pandas as pd\n",
        "\n",
        "# Sample Data\n",
        "data = {'Category': ['A', 'A', 'B', 'B', 'C', 'C'],\n",
        "        'Values': [10, 20, 30, 40, 50, 60]}\n",
        "\n",
        "df = pd.DataFrame(data)\n",
        "\n",
        "# Group by 'Category' and apply multiple aggregate functions\n",
        "result = df.groupby('Category')['Values'].aggregate(['sum', 'mean', 'max'])\n",
        "\n",
        "print(result)\n",
        "\n"
      ]
    },
    {
      "cell_type": "code",
      "source": [
        "# Filter groups where sum of 'Values' is greater than 50\n",
        "filtered = df.groupby('Category').filter(lambda x: x['Values'].sum() > 50)\n",
        "\n",
        "print(filtered)\n"
      ],
      "metadata": {
        "colab": {
          "base_uri": "https://localhost:8080/"
        },
        "id": "EBz_k_URN-MV",
        "outputId": "34f1fe1c-fb27-43e4-c457-b367bbcb6064"
      },
      "execution_count": 3,
      "outputs": [
        {
          "output_type": "stream",
          "name": "stdout",
          "text": [
            "  Category  Values\n",
            "2        B      30\n",
            "3        B      40\n",
            "4        C      50\n",
            "5        C      60\n"
          ]
        }
      ]
    },
    {
      "cell_type": "code",
      "source": [
        "# Compute mean per group and broadcast it to the original DataFrame\n",
        "df['Mean_Value'] = df.groupby('Category')['Values'].transform('mean')\n",
        "\n",
        "print(df)\n"
      ],
      "metadata": {
        "colab": {
          "base_uri": "https://localhost:8080/"
        },
        "id": "Xv14f2VhOFDI",
        "outputId": "2f8b04f4-6dc9-4199-8a26-4f05b048babe"
      },
      "execution_count": 4,
      "outputs": [
        {
          "output_type": "stream",
          "name": "stdout",
          "text": [
            "  Category  Values  Mean_Value\n",
            "0        A      10        15.0\n",
            "1        A      20        15.0\n",
            "2        B      30        35.0\n",
            "3        B      40        35.0\n",
            "4        C      50        55.0\n",
            "5        C      60        55.0\n"
          ]
        }
      ]
    },
    {
      "cell_type": "code",
      "source": [
        "# Define a custom function\n",
        "def custom_func(group):\n",
        "    return group['Values'].sum() * 2\n",
        "\n",
        "# Apply function to each group\n",
        "applied = df.groupby('Category').apply(custom_func)\n",
        "\n",
        "print(applied)\n"
      ],
      "metadata": {
        "colab": {
          "base_uri": "https://localhost:8080/"
        },
        "id": "nJBkHIFXOJZY",
        "outputId": "a6bf5267-5a1e-4b17-f8cc-ecae1cde2d51"
      },
      "execution_count": 5,
      "outputs": [
        {
          "output_type": "stream",
          "name": "stdout",
          "text": [
            "Category\n",
            "A     60\n",
            "B    140\n",
            "C    220\n",
            "dtype: int64\n"
          ]
        },
        {
          "output_type": "stream",
          "name": "stderr",
          "text": [
            "<ipython-input-5-20ca2dd27cf0>:6: DeprecationWarning: DataFrameGroupBy.apply operated on the grouping columns. This behavior is deprecated, and in a future version of pandas the grouping columns will be excluded from the operation. Either pass `include_groups=False` to exclude the groupings or explicitly select the grouping columns after groupby to silence this warning.\n",
            "  applied = df.groupby('Category').apply(custom_func)\n"
          ]
        }
      ]
    }
  ]
}